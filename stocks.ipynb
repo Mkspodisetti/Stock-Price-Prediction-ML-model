{
 "cells": [
  {
   "cell_type": "code",
   "execution_count": 1,
   "id": "f1f0caf0",
   "metadata": {},
   "outputs": [],
   "source": [
    "import pandas as pd\n",
    "from sklearn.linear_model import LinearRegression\n",
    "import seaborn as sns\n",
    "from matplotlib import pyplot as plt\n",
    "import numpy as np\n",
    "from sklearn.model_selection import train_test_split"
   ]
  },
  {
   "cell_type": "code",
   "execution_count": 2,
   "id": "65f9ddca",
   "metadata": {},
   "outputs": [
    {
     "data": {
      "text/html": [
       "<div>\n",
       "<style scoped>\n",
       "    .dataframe tbody tr th:only-of-type {\n",
       "        vertical-align: middle;\n",
       "    }\n",
       "\n",
       "    .dataframe tbody tr th {\n",
       "        vertical-align: top;\n",
       "    }\n",
       "\n",
       "    .dataframe thead th {\n",
       "        text-align: right;\n",
       "    }\n",
       "</style>\n",
       "<table border=\"1\" class=\"dataframe\">\n",
       "  <thead>\n",
       "    <tr style=\"text-align: right;\">\n",
       "      <th></th>\n",
       "      <th>Date</th>\n",
       "      <th>AMZN</th>\n",
       "      <th>DPZ</th>\n",
       "      <th>BTC</th>\n",
       "      <th>NFLX</th>\n",
       "    </tr>\n",
       "  </thead>\n",
       "  <tbody>\n",
       "    <tr>\n",
       "      <th>0</th>\n",
       "      <td>5/1/2013</td>\n",
       "      <td>248.229996</td>\n",
       "      <td>51.190983</td>\n",
       "      <td>106.250000</td>\n",
       "      <td>30.415714</td>\n",
       "    </tr>\n",
       "    <tr>\n",
       "      <th>1</th>\n",
       "      <td>5/2/2013</td>\n",
       "      <td>252.550003</td>\n",
       "      <td>51.987320</td>\n",
       "      <td>98.099998</td>\n",
       "      <td>30.641428</td>\n",
       "    </tr>\n",
       "    <tr>\n",
       "      <th>2</th>\n",
       "      <td>5/3/2013</td>\n",
       "      <td>258.049988</td>\n",
       "      <td>52.446388</td>\n",
       "      <td>112.900002</td>\n",
       "      <td>30.492857</td>\n",
       "    </tr>\n",
       "    <tr>\n",
       "      <th>3</th>\n",
       "      <td>5/6/2013</td>\n",
       "      <td>255.720001</td>\n",
       "      <td>53.205257</td>\n",
       "      <td>109.599998</td>\n",
       "      <td>30.098572</td>\n",
       "    </tr>\n",
       "    <tr>\n",
       "      <th>4</th>\n",
       "      <td>5/7/2013</td>\n",
       "      <td>257.730011</td>\n",
       "      <td>54.151505</td>\n",
       "      <td>113.199997</td>\n",
       "      <td>29.464285</td>\n",
       "    </tr>\n",
       "    <tr>\n",
       "      <th>...</th>\n",
       "      <td>...</td>\n",
       "      <td>...</td>\n",
       "      <td>...</td>\n",
       "      <td>...</td>\n",
       "      <td>...</td>\n",
       "    </tr>\n",
       "    <tr>\n",
       "      <th>1515</th>\n",
       "      <td>5/8/2019</td>\n",
       "      <td>1917.770020</td>\n",
       "      <td>283.149994</td>\n",
       "      <td>6171.959961</td>\n",
       "      <td>364.369995</td>\n",
       "    </tr>\n",
       "    <tr>\n",
       "      <th>1516</th>\n",
       "      <td>5/9/2019</td>\n",
       "      <td>1899.869995</td>\n",
       "      <td>282.160004</td>\n",
       "      <td>6358.290039</td>\n",
       "      <td>362.750000</td>\n",
       "    </tr>\n",
       "    <tr>\n",
       "      <th>1517</th>\n",
       "      <td>5/10/2019</td>\n",
       "      <td>1889.979980</td>\n",
       "      <td>278.369995</td>\n",
       "      <td>7191.359863</td>\n",
       "      <td>361.040009</td>\n",
       "    </tr>\n",
       "    <tr>\n",
       "      <th>1518</th>\n",
       "      <td>5/13/2019</td>\n",
       "      <td>1822.680054</td>\n",
       "      <td>273.880005</td>\n",
       "      <td>7980.129883</td>\n",
       "      <td>345.260010</td>\n",
       "    </tr>\n",
       "    <tr>\n",
       "      <th>1519</th>\n",
       "      <td>5/14/2019</td>\n",
       "      <td>1840.119995</td>\n",
       "      <td>272.859985</td>\n",
       "      <td>8183.830078</td>\n",
       "      <td>345.609985</td>\n",
       "    </tr>\n",
       "  </tbody>\n",
       "</table>\n",
       "<p>1520 rows × 5 columns</p>\n",
       "</div>"
      ],
      "text/plain": [
       "           Date         AMZN         DPZ          BTC        NFLX\n",
       "0      5/1/2013   248.229996   51.190983   106.250000   30.415714\n",
       "1      5/2/2013   252.550003   51.987320    98.099998   30.641428\n",
       "2      5/3/2013   258.049988   52.446388   112.900002   30.492857\n",
       "3      5/6/2013   255.720001   53.205257   109.599998   30.098572\n",
       "4      5/7/2013   257.730011   54.151505   113.199997   29.464285\n",
       "...         ...          ...         ...          ...         ...\n",
       "1515   5/8/2019  1917.770020  283.149994  6171.959961  364.369995\n",
       "1516   5/9/2019  1899.869995  282.160004  6358.290039  362.750000\n",
       "1517  5/10/2019  1889.979980  278.369995  7191.359863  361.040009\n",
       "1518  5/13/2019  1822.680054  273.880005  7980.129883  345.260010\n",
       "1519  5/14/2019  1840.119995  272.859985  8183.830078  345.609985\n",
       "\n",
       "[1520 rows x 5 columns]"
      ]
     },
     "execution_count": 2,
     "metadata": {},
     "output_type": "execute_result"
    }
   ],
   "source": [
    "df=pd.read_csv('portfolio_data.csv')\n",
    "df\n"
   ]
  },
  {
   "cell_type": "code",
   "execution_count": 3,
   "id": "42df63ad",
   "metadata": {},
   "outputs": [],
   "source": [
    "df['Date'] = df['Date'].str.replace('/', '-')"
   ]
  },
  {
   "cell_type": "code",
   "execution_count": 4,
   "id": "49773372",
   "metadata": {},
   "outputs": [
    {
     "data": {
      "text/html": [
       "<div>\n",
       "<style scoped>\n",
       "    .dataframe tbody tr th:only-of-type {\n",
       "        vertical-align: middle;\n",
       "    }\n",
       "\n",
       "    .dataframe tbody tr th {\n",
       "        vertical-align: top;\n",
       "    }\n",
       "\n",
       "    .dataframe thead th {\n",
       "        text-align: right;\n",
       "    }\n",
       "</style>\n",
       "<table border=\"1\" class=\"dataframe\">\n",
       "  <thead>\n",
       "    <tr style=\"text-align: right;\">\n",
       "      <th></th>\n",
       "      <th>Date</th>\n",
       "      <th>AMZN</th>\n",
       "      <th>DPZ</th>\n",
       "      <th>BTC</th>\n",
       "      <th>NFLX</th>\n",
       "    </tr>\n",
       "  </thead>\n",
       "  <tbody>\n",
       "    <tr>\n",
       "      <th>0</th>\n",
       "      <td>5-1-2013</td>\n",
       "      <td>248.229996</td>\n",
       "      <td>51.190983</td>\n",
       "      <td>106.250000</td>\n",
       "      <td>30.415714</td>\n",
       "    </tr>\n",
       "    <tr>\n",
       "      <th>1</th>\n",
       "      <td>5-2-2013</td>\n",
       "      <td>252.550003</td>\n",
       "      <td>51.987320</td>\n",
       "      <td>98.099998</td>\n",
       "      <td>30.641428</td>\n",
       "    </tr>\n",
       "    <tr>\n",
       "      <th>2</th>\n",
       "      <td>5-3-2013</td>\n",
       "      <td>258.049988</td>\n",
       "      <td>52.446388</td>\n",
       "      <td>112.900002</td>\n",
       "      <td>30.492857</td>\n",
       "    </tr>\n",
       "    <tr>\n",
       "      <th>3</th>\n",
       "      <td>5-6-2013</td>\n",
       "      <td>255.720001</td>\n",
       "      <td>53.205257</td>\n",
       "      <td>109.599998</td>\n",
       "      <td>30.098572</td>\n",
       "    </tr>\n",
       "    <tr>\n",
       "      <th>4</th>\n",
       "      <td>5-7-2013</td>\n",
       "      <td>257.730011</td>\n",
       "      <td>54.151505</td>\n",
       "      <td>113.199997</td>\n",
       "      <td>29.464285</td>\n",
       "    </tr>\n",
       "  </tbody>\n",
       "</table>\n",
       "</div>"
      ],
      "text/plain": [
       "       Date        AMZN        DPZ         BTC       NFLX\n",
       "0  5-1-2013  248.229996  51.190983  106.250000  30.415714\n",
       "1  5-2-2013  252.550003  51.987320   98.099998  30.641428\n",
       "2  5-3-2013  258.049988  52.446388  112.900002  30.492857\n",
       "3  5-6-2013  255.720001  53.205257  109.599998  30.098572\n",
       "4  5-7-2013  257.730011  54.151505  113.199997  29.464285"
      ]
     },
     "execution_count": 4,
     "metadata": {},
     "output_type": "execute_result"
    }
   ],
   "source": [
    "df.head()"
   ]
  },
  {
   "cell_type": "code",
   "execution_count": 5,
   "id": "fbd68852",
   "metadata": {},
   "outputs": [],
   "source": [
    "df=df.dropna()"
   ]
  },
  {
   "cell_type": "code",
   "execution_count": 6,
   "id": "924a9a26",
   "metadata": {},
   "outputs": [
    {
     "data": {
      "text/plain": [
       "<Axes: >"
      ]
     },
     "execution_count": 6,
     "metadata": {},
     "output_type": "execute_result"
    },
    {
     "data": {
      "image/png": "[encoded data removed]",
      "text/plain": [
       "<Figure size 640x480 with 1 Axes>"
      ]
     },
     "metadata": {},
     "output_type": "display_data"
    }
   ],
   "source": [
    "sns.boxplot(df[\"AMZN\"])"
   ]
  },
  {
   "cell_type": "code",
   "execution_count": 7,
   "id": "e9e028af",
   "metadata": {},
   "outputs": [
    {
     "data": {
      "text/plain": [
       "<Axes: >"
      ]
     },
     "execution_count": 7,
     "metadata": {},
     "output_type": "execute_result"
    },
    {
     "data": {
      "image/png": "[encoded data removed]",
      "text/plain": [
       "<Figure size 640x480 with 1 Axes>"
      ]
     },
     "metadata": {},
     "output_type": "display_data"
    }
   ],
   "source": [
    "sns.boxplot(df[\"DPZ\"])"
   ]
  },
  {
   "cell_type": "code",
   "execution_count": 8,
   "id": "b6b3042a",
   "metadata": {},
   "outputs": [
    {
     "data": {
      "text/plain": [
       "<Axes: >"
      ]
     },
     "execution_count": 8,
     "metadata": {},
     "output_type": "execute_result"
    },
    {
     "data": {
      "image/png": "[encoded data removed]",
      "text/plain": [
       "<Figure size 640x480 with 1 Axes>"
      ]
     },
     "metadata": {},
     "output_type": "display_data"
    }
   ],
   "source": [
    "sns.boxplot(df[\"BTC\"])"
   ]
  },
  {
   "cell_type": "code",
   "execution_count": 9,
   "id": "8047344d",
   "metadata": {},
   "outputs": [
    {
     "data": {
      "text/plain": [
       "<Axes: >"
      ]
     },
     "execution_count": 9,
     "metadata": {},
     "output_type": "execute_result"
    },
    {
     "data": {
      "image/png": "[encoded data removed]",
      "text/plain": [
       "<Figure size 640x480 with 1 Axes>"
      ]
     },
     "metadata": {},
     "output_type": "display_data"
    }
   ],
   "source": [
    "sns.boxplot(df[\"NFLX\"])"
   ]
  },
  {
   "cell_type": "markdown",
   "id": "64c5806f",
   "metadata": {},
   "source": [
    "we found the outliers only in just BTC and NTFX (we will try just cap them)"
   ]
  },
  {
   "cell_type": "code",
   "execution_count": 10,
   "id": "f9e7b4f6",
   "metadata": {
    "scrolled": true
   },
   "outputs": [
    {
     "name": "stderr",
     "output_type": "stream",
     "text": [
      "C:\\Users\\rizwa\\AppData\\Local\\Temp\\ipykernel_15320\\3710496182.py:2: UserWarning: \n",
      "\n",
      "`distplot` is a deprecated function and will be removed in seaborn v0.14.0.\n",
      "\n",
      "Please adapt your code to use either `displot` (a figure-level function with\n",
      "similar flexibility) or `histplot` (an axes-level function for histograms).\n",
      "\n",
      "For a guide to updating your code to use the new functions, please see\n",
      "https://gist.github.com/mwaskom/de44147ed2974457ad6372750bbe5751\n",
      "\n",
      "  sns.distplot(df['AMZN'])\n",
      "C:\\Users\\rizwa\\AppData\\Local\\Temp\\ipykernel_15320\\3710496182.py:4: UserWarning: \n",
      "\n",
      "`distplot` is a deprecated function and will be removed in seaborn v0.14.0.\n",
      "\n",
      "Please adapt your code to use either `displot` (a figure-level function with\n",
      "similar flexibility) or `histplot` (an axes-level function for histograms).\n",
      "\n",
      "For a guide to updating your code to use the new functions, please see\n",
      "https://gist.github.com/mwaskom/de44147ed2974457ad6372750bbe5751\n",
      "\n",
      "  sns.distplot(df['DPZ'])\n",
      "C:\\Users\\rizwa\\AppData\\Local\\Temp\\ipykernel_15320\\3710496182.py:6: UserWarning: \n",
      "\n",
      "`distplot` is a deprecated function and will be removed in seaborn v0.14.0.\n",
      "\n",
      "Please adapt your code to use either `displot` (a figure-level function with\n",
      "similar flexibility) or `histplot` (an axes-level function for histograms).\n",
      "\n",
      "For a guide to updating your code to use the new functions, please see\n",
      "https://gist.github.com/mwaskom/de44147ed2974457ad6372750bbe5751\n",
      "\n",
      "  sns.distplot(df['BTC'])\n",
      "C:\\Users\\rizwa\\AppData\\Local\\Temp\\ipykernel_15320\\3710496182.py:8: UserWarning: \n",
      "\n",
      "`distplot` is a deprecated function and will be removed in seaborn v0.14.0.\n",
      "\n",
      "Please adapt your code to use either `displot` (a figure-level function with\n",
      "similar flexibility) or `histplot` (an axes-level function for histograms).\n",
      "\n",
      "For a guide to updating your code to use the new functions, please see\n",
      "https://gist.github.com/mwaskom/de44147ed2974457ad6372750bbe5751\n",
      "\n",
      "  sns.distplot(df['NFLX'])\n"
     ]
    },
    {
     "data": {
      "image/png": "[encoded data removed]",
      "text/plain": [
       "<Figure size 640x480 with 4 Axes>"
      ]
     },
     "metadata": {},
     "output_type": "display_data"
    }
   ],
   "source": [
    "plt.subplot(1,4,1)\n",
    "sns.distplot(df['AMZN'])\n",
    "plt.subplot(1,4,2)\n",
    "sns.distplot(df['DPZ'])\n",
    "plt.subplot(1,4,3)\n",
    "sns.distplot(df['BTC'])\n",
    "plt.subplot(1,4,4)\n",
    "sns.distplot(df['NFLX'])\n",
    "plt.show()"
   ]
  },
  {
   "cell_type": "markdown",
   "id": "87f37495",
   "metadata": {},
   "source": [
    "I am using Percentile method to find and cap the outliers"
   ]
  },
  {
   "cell_type": "code",
   "execution_count": 11,
   "id": "56740b74",
   "metadata": {
    "scrolled": true
   },
   "outputs": [
    {
     "data": {
      "text/plain": [
       "count     1520.000000\n",
       "mean      2421.465669\n",
       "std       3310.894199\n",
       "min         69.660004\n",
       "25%        340.904999\n",
       "50%        625.304993\n",
       "75%       3874.912415\n",
       "max      18972.320310\n",
       "Name: BTC, dtype: float64"
      ]
     },
     "execution_count": 11,
     "metadata": {},
     "output_type": "execute_result"
    }
   ],
   "source": [
    "df[\"BTC\"].describe()"
   ]
  },
  {
   "cell_type": "code",
   "execution_count": 12,
   "id": "8b85665a",
   "metadata": {},
   "outputs": [
    {
     "data": {
      "text/plain": [
       "224.9470014"
      ]
     },
     "execution_count": 12,
     "metadata": {},
     "output_type": "execute_result"
    }
   ],
   "source": [
    "max_limit = df[\"BTC\"].quantile(0.10)\n",
    "min_limit = df[\"BTC\"].quantile(0.90)\n",
    "max_limit\n"
   ]
  },
  {
   "cell_type": "code",
   "execution_count": 13,
   "id": "bf3cb347",
   "metadata": {},
   "outputs": [
    {
     "data": {
      "text/plain": [
       "7131.842871300003"
      ]
     },
     "execution_count": 13,
     "metadata": {},
     "output_type": "execute_result"
    }
   ],
   "source": [
    "min_limit"
   ]
  },
  {
   "cell_type": "code",
   "execution_count": 14,
   "id": "5d9715b5",
   "metadata": {},
   "outputs": [],
   "source": [
    "new_data2 = df.copy()\n",
    "new_data2[\"BTC\"] = np.where(df[\"BTC\"]>max_limit,max_limit, np.where(df[\"BTC\"]<min_limit,min_limit, df[\"BTC\"]))"
   ]
  },
  {
   "cell_type": "markdown",
   "id": "edb837ed",
   "metadata": {},
   "source": []
  },
  {
   "cell_type": "markdown",
   "id": "96bddd83",
   "metadata": {},
   "source": [
    "same for NFLX"
   ]
  },
  {
   "cell_type": "code",
   "execution_count": 15,
   "id": "34e130e9",
   "metadata": {},
   "outputs": [
    {
     "data": {
      "text/plain": [
       "count    1520.000000\n",
       "mean      147.668273\n",
       "std       107.641486\n",
       "min        29.464285\n",
       "25%        62.851071\n",
       "50%       104.000000\n",
       "75%       192.207496\n",
       "max       418.970001\n",
       "Name: NFLX, dtype: float64"
      ]
     },
     "execution_count": 15,
     "metadata": {},
     "output_type": "execute_result"
    }
   ],
   "source": [
    "df[\"NFLX\"].describe()"
   ]
  },
  {
   "cell_type": "code",
   "execution_count": 16,
   "id": "53a7f032",
   "metadata": {},
   "outputs": [],
   "source": [
    "max_limit = df[\"NFLX\"].quantile(0.10)\n",
    "min_limit = df[\"NFLX\"].quantile(0.90)"
   ]
  },
  {
   "cell_type": "code",
   "execution_count": 17,
   "id": "dc61b753",
   "metadata": {},
   "outputs": [],
   "source": [
    "new_data2 = new_data2.copy()\n",
    "new_data2[\"NFLX\"] = np.where(df[\"NFLX\"]>max_limit,max_limit, np.where(df[\"NFLX\"]<min_limit,min_limit, df[\"NFLX\"]))"
   ]
  },
  {
   "cell_type": "code",
   "execution_count": 18,
   "id": "e521c0f8",
   "metadata": {},
   "outputs": [],
   "source": [
    "new_data2['Date'] = pd.to_datetime(new_data2['Date'])"
   ]
  },
  {
   "cell_type": "code",
   "execution_count": null,
   "id": "8a24f9a0",
   "metadata": {},
   "outputs": [],
   "source": []
  },
  {
   "cell_type": "markdown",
   "id": "68217340",
   "metadata": {},
   "source": [
    "max no of outier were been removed and capped"
   ]
  },
  {
   "cell_type": "markdown",
   "id": "00e2aa96",
   "metadata": {},
   "source": [
    "create ml model for AMZN"
   ]
  },
  {
   "cell_type": "code",
   "execution_count": 23,
   "id": "65408054",
   "metadata": {},
   "outputs": [
    {
     "name": "stdout",
     "output_type": "stream",
     "text": [
      "Predicted AMZN price for 2020-05-01: 252.5701992199999\n"
     ]
    }
   ],
   "source": [
    "import pandas as pd\n",
    "from sklearn.ensemble import RandomForestRegressor\n",
    "from sklearn.model_selection import train_test_split\n",
    "\n",
    "# Load the data\n",
    "df = pd.read_csv('portfolio_data.csv')\n",
    "\n",
    "# Convert 'Date' column to datetime format\n",
    "df['Date'] = pd.to_datetime(df['Date'])\n",
    "\n",
    "# Extract numerical features from the datetime column\n",
    "df['DayOfYear'] = df['Date'].dt.dayofyear\n",
    "df['DayOfWeek'] = df['Date'].dt.dayofweek\n",
    "\n",
    "# Prepare features (X) and target variable (y)\n",
    "X = df[['DayOfYear', 'DayOfWeek', 'DPZ', 'BTC', 'NFLX']]  # Features\n",
    "y = df['AMZN']  # Target variable\n",
    "\n",
    "# Split the data into training and testing sets\n",
    "X_train, X_test, y_train, y_test = train_test_split(X, y, test_size=0.2, random_state=42)\n",
    "\n",
    "# Initialize and train the Random Forest Regressor model\n",
    "regressor = RandomForestRegressor(n_estimators=100, random_state=42)\n",
    "regressor.fit(X_train, y_train)\n",
    "\n",
    "# Prepare input data for prediction\n",
    "new_date = pd.to_datetime('2020-05-01')  # Convert the date to datetime format\n",
    "new_day_of_year = new_date.dayofyear\n",
    "new_day_of_week = new_date.dayofweek\n",
    "\n",
    "# Create a DataFrame for prediction\n",
    "new_data = pd.DataFrame({'DayOfYear': [new_day_of_year], 'DayOfWeek': [new_day_of_week], 'DPZ': [0], 'BTC': [0], 'NFLX': [0]})\n",
    "\n",
    "# Use the trained model to make predictions\n",
    "predicted_price = regressor.predict(new_data)\n",
    "\n",
    "print(\"Predicted AMZN price for 2020-05-01:\", predicted_price[0])\n"
   ]
  },
  {
   "cell_type": "code",
   "execution_count": 24,
   "id": "eae21629",
   "metadata": {},
   "outputs": [
    {
     "name": "stdout",
     "output_type": "stream",
     "text": [
      "Predicted AMZN price for 2023-05-10: 259.8822022800001\n"
     ]
    }
   ],
   "source": [
    "new_date = pd.to_datetime('2023-05-10')  # Convert the date to datetime format\n",
    "new_day_of_year = new_date.dayofyear\n",
    "new_day_of_week = new_date.dayofweek\n",
    "\n",
    "# Create a DataFrame for prediction\n",
    "new_data = pd.DataFrame({'DayOfYear': [new_day_of_year], 'DayOfWeek': [new_day_of_week], 'DPZ': [0], 'BTC': [0], 'NFLX': [0]})\n",
    "\n",
    "# Use the trained model to make predictions\n",
    "predicted_price = regressor.predict(new_data)\n",
    "\n",
    "print(\"Predicted AMZN price for 2023-05-10:\", predicted_price[0])"
   ]
  },
  {
   "cell_type": "code",
   "execution_count": null,
   "id": "513c77d9",
   "metadata": {},
   "outputs": [],
   "source": []
  }
 ],
 "metadata": {
  "kernelspec": {
   "display_name": "Python 3 (ipykernel)",
   "language": "python",
   "name": "python3"
  },
  "language_info": {
   "codemirror_mode": {
    "name": "ipython",
    "version": 3
   },
   "file_extension": ".py",
   "mimetype": "text/x-python",
   "name": "python",
   "nbconvert_exporter": "python",
   "pygments_lexer": "ipython3",
   "version": "3.11.3"
  }
 },
 "nbformat": 4,
 "nbformat_minor": 5
}
